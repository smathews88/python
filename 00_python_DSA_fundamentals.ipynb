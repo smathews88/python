{
  "nbformat": 4,
  "nbformat_minor": 0,
  "metadata": {
    "colab": {
      "provenance": [],
      "authorship_tag": "ABX9TyMbltxQr/r3lU5dtbSgYNBy",
      "include_colab_link": true
    },
    "kernelspec": {
      "name": "python3",
      "display_name": "Python 3"
    },
    "language_info": {
      "name": "python"
    }
  },
  "cells": [
    {
      "cell_type": "markdown",
      "metadata": {
        "id": "view-in-github",
        "colab_type": "text"
      },
      "source": [
        "<a href=\"https://colab.research.google.com/github/smathews88/python/blob/main/00_python_DSA_fundamentals.ipynb\" target=\"_parent\"><img src=\"https://colab.research.google.com/assets/colab-badge.svg\" alt=\"Open In Colab\"/></a>"
      ]
    },
    {
      "cell_type": "markdown",
      "source": [
        "<h1><b><u>Control Structures Review</b></u></h1>\n",
        "\n",
        "You can iterate through list or disctiionary in python using following method\n",
        "<li> <b> for </b> - initialize a value as index and increment/decrement the value to iterate until it reaches end value</li>  \n",
        "<li> <b>for-each </b> - iterate over each element of the list</li>\n",
        "<li> <b>enumerate </b> - if you need both value and index while iterating</li>\n",
        "<li> <b>while </b> - will iterate until some condition is true</li>"
      ],
      "metadata": {
        "id": "jbMbjNpTcDPC"
      }
    },
    {
      "cell_type": "code",
      "source": [
        "#for - initialize a value as index and increment/decrement the value to iterate until it reaches end value\n",
        "list1 = [1,2,3,4,5]\n",
        "for i in range(len(list1)):\n",
        "  print(list1[i])"
      ],
      "metadata": {
        "colab": {
          "base_uri": "https://localhost:8080/"
        },
        "id": "N2t2jAE-cFJd",
        "outputId": "697d855d-4a12-4ed7-c76d-d0006c33a45d"
      },
      "execution_count": null,
      "outputs": [
        {
          "output_type": "stream",
          "name": "stdout",
          "text": [
            "1\n",
            "2\n",
            "3\n",
            "4\n",
            "5\n"
          ]
        }
      ]
    },
    {
      "cell_type": "code",
      "source": [
        "#for-each - iterate over each element of the list\n",
        "for value in list1:\n",
        "  print(value)"
      ],
      "metadata": {
        "colab": {
          "base_uri": "https://localhost:8080/"
        },
        "id": "9_40GpJEg4fb",
        "outputId": "0e29083c-a275-4587-b2ce-fe3a9a2b3721"
      },
      "execution_count": null,
      "outputs": [
        {
          "output_type": "stream",
          "name": "stdout",
          "text": [
            "1\n",
            "2\n",
            "3\n",
            "4\n",
            "5\n"
          ]
        }
      ]
    },
    {
      "cell_type": "code",
      "source": [
        "#enumerate - if you need both value and index while iterating\n",
        "for i,value in enumerate(list1):\n",
        "  print(i,value)"
      ],
      "metadata": {
        "colab": {
          "base_uri": "https://localhost:8080/"
        },
        "id": "71S9WQTfg_zf",
        "outputId": "b40280da-a145-4c5b-c9da-ecad963f47c3"
      },
      "execution_count": null,
      "outputs": [
        {
          "output_type": "stream",
          "name": "stdout",
          "text": [
            "0 1\n",
            "1 2\n",
            "2 3\n",
            "3 4\n",
            "4 5\n"
          ]
        }
      ]
    },
    {
      "cell_type": "code",
      "source": [
        "#while - will iterate until some condition is true\n",
        "i = 0\n",
        "while (i<len(list1)):\n",
        "  print(list1[i])\n",
        "  i += 1"
      ],
      "metadata": {
        "colab": {
          "base_uri": "https://localhost:8080/"
        },
        "id": "KvehqzuQhLnb",
        "outputId": "a25dedb5-8c38-4de8-a6fe-a79c8bbbbdd3"
      },
      "execution_count": null,
      "outputs": [
        {
          "output_type": "stream",
          "name": "stdout",
          "text": [
            "1\n",
            "2\n",
            "3\n",
            "4\n",
            "5\n"
          ]
        }
      ]
    },
    {
      "cell_type": "markdown",
      "source": [
        "<h1><b><u>Conditional Statements</h1></b></u>\n",
        "<li>if - for first condition</li>\n",
        "<li>else - for last consition </li>\n",
        "<li> elif - for any condition in between </li>"
      ],
      "metadata": {
        "id": "NjUXuV4eh9QL"
      }
    },
    {
      "cell_type": "code",
      "source": [
        "num = 5\n",
        "if num < 0:\n",
        "  print(num,\" is a negative integer.\")\n",
        "elif num < 10:\n",
        " print(num,\" is a positive one digit number.\")\n",
        "else:\n",
        " print(num,\" is a positive number.\")\n"
      ],
      "metadata": {
        "colab": {
          "base_uri": "https://localhost:8080/"
        },
        "id": "pkscBbBrinzc",
        "outputId": "1cd23e0e-2079-4b80-8e26-975670ca0f48"
      },
      "execution_count": null,
      "outputs": [
        {
          "output_type": "stream",
          "name": "stdout",
          "text": [
            "5  is a positive one digit number.\n"
          ]
        }
      ]
    },
    {
      "cell_type": "markdown",
      "source": [
        "🛠 **Exercise 1: Smallest Positive** </br>\n",
        "Finish writing smallest_positive which is a function that finds the smallest positive number in a list"
      ],
      "metadata": {
        "id": "CoOGRViKHeVg"
      }
    },
    {
      "cell_type": "code",
      "source": [
        "def smallest_positive(in_list):\n",
        "    # TODO: Define a control structure that finds the smallest positive\n",
        "    # number in in_list and returns the correct smallest number.\n",
        "    smallest = None\n",
        "    for value in in_list:\n",
        "      if value > 0 and (smallest == None or value < smallest):\n",
        "        smallest = value\n",
        "    return smallest\n",
        "# Test cases\n",
        "print(smallest_positive([4, -6, 7, 2, -4, 10]))\n",
        "# Correct output: 2\n",
        "print(smallest_positive([.2, 5, 3, -.1, 7, 7, 6]))\n",
        "# Correct output: 0.2\n",
        "print(smallest_positive([-6, -9, -7]))\n",
        "# Correct output: None\n",
        "print(smallest_positive([]))"
      ],
      "metadata": {
        "colab": {
          "base_uri": "https://localhost:8080/"
        },
        "id": "X5gnwZzmjIxY",
        "outputId": "95116792-3539-4a82-dcd4-bde57663c90a"
      },
      "execution_count": null,
      "outputs": [
        {
          "output_type": "stream",
          "name": "stdout",
          "text": [
            "2\n",
            "0.2\n",
            "None\n",
            "None\n"
          ]
        }
      ]
    },
    {
      "cell_type": "markdown",
      "source": [
        "**🛠 Exercise 2: When Offered** </br>\n",
        "Assume you are planning to take additional courses at your local educational institution, and you have acquired some data about the available courses and when they will be offered. In the following exercise, you will write control structures to process the data and return the semesters when a given course is offered.\n",
        "\n",
        "You will need to complete the function when_offered(courses, course). This function accepts a \"courses\" data structure and a \"course\" string. The function should return a list of strings representing the semesters when the input course is offered."
      ],
      "metadata": {
        "id": "I_0FjZlXIAj5"
      }
    },
    {
      "cell_type": "code",
      "source": [
        "\n",
        "courses = {\n",
        "    'spring2020': { 'cs101': {'name': 'Building a Search Engine',\n",
        "                           'teacher': 'Dave',\n",
        "                           'assistant': 'Peter C.'},\n",
        "                 'cs373': {'name': 'Programming a Robotic Car',\n",
        "                           'teacher': 'Sebastian',\n",
        "                           'assistant': 'Andy'}},\n",
        "    'fall2020': { 'cs101': {'name': 'Building a Search Engine',\n",
        "                           'teacher': 'Dave',\n",
        "                           'assistant': 'Sarah'},\n",
        "                 'cs212': {'name': 'The Design of Computer Programs',\n",
        "                           'teacher': 'Peter N.',\n",
        "                           'assistant': 'Andy',\n",
        "                           'prereq': 'cs101'},\n",
        "                 'cs253': {'name': 'Web Application Engineering - Building a Blog',\n",
        "                           'teacher': 'Steve',\n",
        "                           'prereq': 'cs101'},\n",
        "                 'cs262': {'name': 'Programming Languages - Building a Web Browser',\n",
        "                           'teacher': 'Wes',\n",
        "                           'assistant': 'Peter C.',\n",
        "                           'prereq': 'cs101'},\n",
        "                 'cs373': {'name': 'Programming a Robotic Car',\n",
        "                           'teacher': 'Sebastian'},\n",
        "                 'cs387': {'name': 'Applied Cryptography',\n",
        "                           'teacher': 'Dave'}},\n",
        "    'spring2044': { 'cs001': {'name': 'Building a Quantum Holodeck',\n",
        "                           'teacher': 'Dorina'},\n",
        "                        'cs003': {'name': 'Programming a Robotic Robotics Teacher',\n",
        "                           'teacher': 'Jasper'},\n",
        "                     }\n",
        "    }\n",
        "def when_offered(courses, course):\n",
        "    # TODO: Fill out the function here.\n",
        "    list_keys = []\n",
        "    for key in courses :\n",
        "        for course_key in courses[key]:\n",
        "           if(course_key == course):\n",
        "                list_keys.append(key)\n",
        "    # TODO: Return list of semesters here.\n",
        "    return list_keys\n",
        "print(when_offered(courses, 'cs101'))\n",
        "# Correct result:\n",
        "# ['fall2020', 'spring2020']\n",
        "print(when_offered(courses, 'bio893'))\n",
        "# Correct result:\n",
        "# []"
      ],
      "metadata": {
        "colab": {
          "base_uri": "https://localhost:8080/"
        },
        "id": "hAYS6lrX3kqc",
        "outputId": "f3c11c0d-3fc8-422e-aeb9-bc02cf25fc2e"
      },
      "execution_count": null,
      "outputs": [
        {
          "output_type": "stream",
          "name": "stdout",
          "text": [
            "['spring2020', 'fall2020']\n",
            "[]\n"
          ]
        }
      ]
    },
    {
      "cell_type": "markdown",
      "source": [
        "# **Functions & Generators**\n",
        "<li> function is declared using def name of the function (arguments) </li>\n",
        "<li> in Python you are not required to specify the data-type of return value </li>\n",
        "<li>Python functions will always have a return value</li>\n",
        "<li>if a function does not return any value; python will return None</li>\n"
      ],
      "metadata": {
        "id": "sVgDAvJCKuun"
      }
    },
    {
      "cell_type": "code",
      "source": [
        "def sum(a,b):\n",
        "  return a+b\n",
        "sum(2,3)"
      ],
      "metadata": {
        "colab": {
          "base_uri": "https://localhost:8080/"
        },
        "id": "kMLfk5ox52Km",
        "outputId": "8ab9030c-96f4-4202-abed-7a495c76c691"
      },
      "execution_count": null,
      "outputs": [
        {
          "output_type": "execute_result",
          "data": {
            "text/plain": [
              "5"
            ]
          },
          "metadata": {},
          "execution_count": 1
        }
      ]
    },
    {
      "cell_type": "markdown",
      "source": [
        "🛠** Exercise 1: Generate Factorials**\n",
        "In the following exercise, you will create a generator  that generates factorials. For a number n, n factorial is denoted by n!, and it is the product of all positive integers less than or equal to n. For example,\n",
        "\n",
        "5! = 5 \\ *4 * 3 \\ *2 * 1 = 120"
      ],
      "metadata": {
        "id": "TujMHbhrBa8J"
      }
    },
    {
      "cell_type": "code",
      "source": [
        "def prod(a,b):\n",
        "    # TODO change output to the product of a and b\n",
        "    output = a * b\n",
        "    return output\n",
        "\n",
        "def fact_gen():\n",
        "    i = 1\n",
        "    n = i\n",
        "    while True:\n",
        "        output = prod(n, i)\n",
        "        i = i + 1\n",
        "        n = output\n",
        "        yield output\n",
        "        # TODO: update i and n\n",
        "        # Hint: i is a successive integer and n is the previous product\n",
        "\n",
        "\n",
        "# Test cases\n",
        "my_gen = fact_gen()\n",
        "num = 5\n",
        "for i in range(num):\n",
        "    print(next(my_gen))\n",
        "\n",
        "# Correct result when num = 5:\n",
        "# 1\n",
        "# 2\n",
        "# 6\n",
        "# 24\n",
        "# 120"
      ],
      "metadata": {
        "colab": {
          "base_uri": "https://localhost:8080/"
        },
        "id": "7cxEHVLQBZnZ",
        "outputId": "3cd018ad-6ffc-4e52-c2b3-b9a520430dec"
      },
      "execution_count": null,
      "outputs": [
        {
          "output_type": "stream",
          "name": "stdout",
          "text": [
            "1\n",
            "2\n",
            "6\n",
            "24\n",
            "120\n"
          ]
        }
      ]
    },
    {
      "cell_type": "markdown",
      "source": [
        "# **Sorting Algorithms**\n",
        "<img src = \"https://media.geeksforgeeks.org/wp-content/uploads/20220916131621/SortingTYPE.png\">"
      ],
      "metadata": {
        "id": "C7MQyJIu9Myc"
      }
    },
    {
      "cell_type": "markdown",
      "source": [
        "# **Quick Sort**\n",
        "\n",
        "<img src=\"https://miro.medium.com/v2/resize:fit:1154/format:webp/1*bIJvejLlEshkf-ehYJJlWQ.png\" alt=\"W3Schools.com\">\n",
        "\n",
        "\n",
        "\n",
        "*   **Recursive**\n",
        "*   **In place**\n",
        "*   **Unstable**\n",
        "*   **O(nlogn)**\n",
        "\n",
        "\n"
      ],
      "metadata": {
        "id": "zPcpHkmYoRW5"
      }
    },
    {
      "cell_type": "code",
      "source": [
        "def quickSort(array):\n",
        "            if len(array)> 1:\n",
        "                pivot=array.pop()\n",
        "                grtr_lst, equal_lst, smlr_lst = [], [pivot], []\n",
        "                for item in array:\n",
        "                    if item == pivot:\n",
        "                        equal_lst.append(item)\n",
        "                    elif item > pivot:\n",
        "                        grtr_lst.append(item)\n",
        "                    else:\n",
        "                        smlr_lst.append(item)\n",
        "                return (quickSort(smlr_lst) + equal_lst + quickSort(grtr_lst))\n",
        "            else:\n",
        "                return array\n",
        "quickSort([9,-3,5,2,6,8,-6,1,3])"
      ],
      "metadata": {
        "colab": {
          "base_uri": "https://localhost:8080/"
        },
        "id": "MrQNFl4fnvhi",
        "outputId": "3e18a8d7-1409-4512-d937-2fe366f494bc"
      },
      "execution_count": null,
      "outputs": [
        {
          "output_type": "execute_result",
          "data": {
            "text/plain": [
              "[-6, -3, 1, 2, 3, 5, 6, 8, 9]"
            ]
          },
          "metadata": {},
          "execution_count": 146
        }
      ]
    },
    {
      "cell_type": "markdown",
      "source": [
        "# **Merge Sort**\n",
        "<img src=\"https://www.w3schools.com/dsa/img_mergesort_long.png\" alt=\"W3Schools.com\">\n",
        "\n",
        "*   **Recursive**\n",
        "*   **Needs extra space**\n",
        "*   **Stable**\n",
        "*   **O(nlogn)**\n"
      ],
      "metadata": {
        "id": "ldbRlon20c54"
      }
    },
    {
      "cell_type": "code",
      "source": [
        "        # MERGE_SORT\n",
        "def mergeSort(nums):\n",
        "            if len(nums)==1:\n",
        "                return nums\n",
        "            mid = (len(nums)-1) // 2\n",
        "            lst1 = mergeSort(nums[:mid+1])\n",
        "            lst2 = mergeSort(nums[mid+1:])\n",
        "            result = merge(lst1, lst2)\n",
        "            return result\n",
        "\n",
        "def merge(lst1, lst2):\n",
        "            lst = []\n",
        "            i = 0\n",
        "            j = 0\n",
        "            while(i<=len(lst1)-1 and j<=len(lst2)-1):\n",
        "                if lst1[i]<lst2[j]:\n",
        "                    lst.append(lst1[i])\n",
        "                    i+=1\n",
        "                else:\n",
        "                    lst.append(lst2[j])\n",
        "                    j+=1\n",
        "            if i>len(lst1)-1:\n",
        "                while(j<=len(lst2)-1):\n",
        "                    lst.append(lst2[j])\n",
        "                    j+=1\n",
        "            else:\n",
        "                while(i<=len(lst1)-1):\n",
        "                    lst.append(lst1[i])\n",
        "                    i+=1\n",
        "            return lst\n",
        "\n",
        "mergeSort([12,8,9,3,11,5,4])"
      ],
      "metadata": {
        "colab": {
          "base_uri": "https://localhost:8080/"
        },
        "id": "kPEeLdxA0Z4E",
        "outputId": "d4f2d410-2ff8-401f-cd0c-dcddad9ebc4b"
      },
      "execution_count": null,
      "outputs": [
        {
          "output_type": "execute_result",
          "data": {
            "text/plain": [
              "[3, 4, 5, 8, 9, 11, 12]"
            ]
          },
          "metadata": {},
          "execution_count": 145
        }
      ]
    },
    {
      "cell_type": "markdown",
      "source": [
        "<img src=\"https://www.w3resource.com/w3r_images/bubble-short.png\"></img>\n",
        "\n",
        "\n",
        "*   **Non Recursive**\n",
        "*   **In place**\n",
        "*   **Stable**\n",
        "*   **O(n²)**"
      ],
      "metadata": {
        "id": "4QIzP64jLC25"
      }
    },
    {
      "cell_type": "code",
      "source": [
        "def bubbleSort(array):\n",
        "    swapped = False\n",
        "    print(array)\n",
        "    for i in range(len(array)-1,0,-1):\n",
        "        for j in range(i):\n",
        "            if array[j]>array[j+1]:\n",
        "                array[j], array[j+1] = array[j+1], array[j]\n",
        "                swapped= True\n",
        "            print(array)\n",
        "        if swapped:\n",
        "            swapped=False\n",
        "        else:\n",
        "            break\n",
        "    return array\n",
        "\n",
        "bubbleSort([5,1,4,2,8])"
      ],
      "metadata": {
        "colab": {
          "base_uri": "https://localhost:8080/"
        },
        "id": "n2KJIWYELNRV",
        "outputId": "a2700b72-e96a-493d-cbb2-835f8bec3fcd"
      },
      "execution_count": null,
      "outputs": [
        {
          "output_type": "stream",
          "name": "stdout",
          "text": [
            "[5, 1, 4, 2, 8]\n",
            "[1, 5, 4, 2, 8]\n",
            "[1, 4, 5, 2, 8]\n",
            "[1, 4, 2, 5, 8]\n",
            "[1, 4, 2, 5, 8]\n",
            "[1, 4, 2, 5, 8]\n",
            "[1, 2, 4, 5, 8]\n",
            "[1, 2, 4, 5, 8]\n",
            "[1, 2, 4, 5, 8]\n",
            "[1, 2, 4, 5, 8]\n"
          ]
        },
        {
          "output_type": "execute_result",
          "data": {
            "text/plain": [
              "[1, 2, 4, 5, 8]"
            ]
          },
          "metadata": {},
          "execution_count": 114
        }
      ]
    },
    {
      "cell_type": "markdown",
      "source": [
        "# **Insertion Sort**\n",
        "<img src=\"https://miro.medium.com/v2/resize:fit:4800/format:webp/0*1zi2XtjiLXa3LYZh.PNG\">\n",
        "\n",
        "*   **Non Recursive**\n",
        "*   **In place**\n",
        "*   **Stable**\n",
        "*   **O(n²)**\n"
      ],
      "metadata": {
        "id": "vPZEw35hz7UH"
      }
    },
    {
      "cell_type": "code",
      "source": [
        "def insertionSort(array):\n",
        "    print(array)\n",
        "    for i in range(1, len(array)):\n",
        "        key = array[i]\n",
        "        j = i-1\n",
        "        while array[j] > key and j >= 0:\n",
        "            array[j+1] = array[j]\n",
        "            j -= 1\n",
        "        array[j+1] = key\n",
        "        print(array)\n",
        "    return array\n",
        "\n",
        "insertionSort([23,1,10,5,2])"
      ],
      "metadata": {
        "colab": {
          "base_uri": "https://localhost:8080/"
        },
        "id": "JC2s127C0K1j",
        "outputId": "d72bbf6c-3956-4d4d-bc82-3dabc9bcb818"
      },
      "execution_count": null,
      "outputs": [
        {
          "output_type": "stream",
          "name": "stdout",
          "text": [
            "[23, 1, 10, 5, 2]\n",
            "[1, 23, 10, 5, 2]\n",
            "[1, 10, 23, 5, 2]\n",
            "[1, 5, 10, 23, 2]\n",
            "[1, 2, 5, 10, 23]\n"
          ]
        },
        {
          "output_type": "execute_result",
          "data": {
            "text/plain": [
              "[1, 2, 5, 10, 23]"
            ]
          },
          "metadata": {},
          "execution_count": 143
        }
      ]
    },
    {
      "cell_type": "markdown",
      "source": [
        "# **Heap Sort**\n",
        "<img src=\"https://formulafunction.files.wordpress.com/2017/07/heapsort.png\">\n",
        "\n",
        "\n",
        "*   **Non Recursive**\n",
        "*   **In place**\n",
        "*   **UnStable**\n",
        "*   **O(nlogn)**"
      ],
      "metadata": {
        "id": "0kW5YtDmkCPA"
      }
    },
    {
      "cell_type": "code",
      "source": [
        "def heapify(array, n, i):\n",
        "            largest = i\n",
        "            l = 2 * i + 1\n",
        "            r = 2 * i + 2\n",
        "\n",
        "            if l < n and array[i] < array[l]:\n",
        "                largest = l\n",
        "\n",
        "            if r < n and array[largest] < array[r]:\n",
        "                largest = r\n",
        "\n",
        "            if largest != i:\n",
        "                array[i], array[largest] = array[largest], array[i]\n",
        "                heapify(array, n, largest)\n",
        "\n",
        "def heapSort(array):\n",
        "            n = len(array)\n",
        "            for i in range(n//2, -1, -1):\n",
        "                heapify(array, n, i)\n",
        "            for i in range(n-1, 0, -1):\n",
        "                array[i], array[0] = array[0], array[i]\n",
        "                heapify(array, i, 0)\n",
        "            return array\n",
        "\n",
        "# Driver Code\n",
        "print(heapSort([60, 20, 40, 70, 30, 10]))"
      ],
      "metadata": {
        "colab": {
          "base_uri": "https://localhost:8080/"
        },
        "id": "3z-I2SYzkm9v",
        "outputId": "9060e3fa-3568-44bc-afcb-674e8b69113b"
      },
      "execution_count": null,
      "outputs": [
        {
          "output_type": "stream",
          "name": "stdout",
          "text": [
            "[10, 20, 30, 40, 60, 70]\n"
          ]
        }
      ]
    },
    {
      "cell_type": "markdown",
      "source": [
        "# **Selection Sort**\n",
        "<img src=\"https://he-s3.s3.amazonaws.com/media/uploads/2888f5b.png\">\n",
        "\n",
        "\n",
        "\n",
        "*   **Non Recursive**\n",
        "*   **In place**\n",
        "*   **UnStable**\n",
        "*   **O(n²)**"
      ],
      "metadata": {
        "id": "x781RJEeseXB"
      }
    },
    {
      "cell_type": "code",
      "source": [
        "def selectionSort(array):\n",
        "  for i in range(len(array)):\n",
        "    min_idx = i\n",
        "    for idx in range(i + 1, len(array)):\n",
        "      if array[idx] < array[min_idx]:\n",
        "        min_idx = idx\n",
        "    array[i], array[min_idx] = array[min_idx], array[i]\n",
        "    print(array)\n",
        "  return array\n",
        "selectionSort([7,5,4,2])"
      ],
      "metadata": {
        "colab": {
          "base_uri": "https://localhost:8080/"
        },
        "id": "D6s_fPndsED5",
        "outputId": "486932f1-f8b2-48e5-94db-217573d96971"
      },
      "execution_count": null,
      "outputs": [
        {
          "output_type": "stream",
          "name": "stdout",
          "text": [
            "[2, 5, 4, 7]\n",
            "[2, 4, 5, 7]\n",
            "[2, 4, 5, 7]\n",
            "[2, 4, 5, 7]\n"
          ]
        },
        {
          "output_type": "execute_result",
          "data": {
            "text/plain": [
              "[2, 4, 5, 7]"
            ]
          },
          "metadata": {},
          "execution_count": 140
        }
      ]
    },
    {
      "cell_type": "markdown",
      "source": [
        "\n",
        "# **Time and Space Complexity Comparison Table :**\n",
        "<table class=\"GFGEditorTheme__table\">\n",
        "<colgroup>\n",
        "<col>\n",
        "<col>\n",
        "<col></colgroup>\n",
        "<thead>\n",
        "<tr>\n",
        "<th class=\"GFGEditorTheme__tableCell GFGEditorTheme__tableCellHeader\" style=\"width: 233.333px\"><span>Sorting Algorithm</span></th>\n",
        "<th colspan=\"3\" class=\"GFGEditorTheme__tableCell GFGEditorTheme__tableCellHeader\" style=\"width: 233.333px\"><span>Time Complexity</span></th>\n",
        "<th class=\"GFGEditorTheme__tableCell GFGEditorTheme__tableCellHeader\" style=\"width: 233.333px\"><span>Space Complexity</span></th>\n",
        "</tr>\n",
        "<tr>\n",
        "<th class=\"GFGEditorTheme__tableCell GFGEditorTheme__tableCellHeader\" style=\"width: 140px\"><span>&nbsp;</span></th>\n",
        "<th class=\"GFGEditorTheme__tableCell GFGEditorTheme__tableCellHeader\" style=\"width: 140px\"><span>Best Case</span></th>\n",
        "<th class=\"GFGEditorTheme__tableCell GFGEditorTheme__tableCellHeader\" style=\"width: 140px\"><span>Average Case</span></th>\n",
        "<th class=\"GFGEditorTheme__tableCell GFGEditorTheme__tableCellHeader\" style=\"width: 140px\"><span>Worst Case</span></th>\n",
        "<th class=\"GFGEditorTheme__tableCell GFGEditorTheme__tableCellHeader\" style=\"width: 140px\"><span>Worst Case</span></th>\n",
        "</tr>\n",
        "</thead>\n",
        "<tbody>\n",
        "<tr>\n",
        "<td class=\"GFGEditorTheme__tableCell\" style=\"width: 140px\"><b><strong>Bubble Sort</strong></b></td>\n",
        "<td class=\"GFGEditorTheme__tableCell\" style=\"width: 140px\"><b><strong>Ω(N)</strong></b></td>\n",
        "<td class=\"GFGEditorTheme__tableCell\" style=\"width: 140px\"><b><strong>Θ(N</strong></b><b><sup><strong>2</strong></sup></b><b><strong>)</strong></b></td>\n",
        "<td class=\"GFGEditorTheme__tableCell\" style=\"width: 140px\"><b><strong>O(N</strong></b><b><sup><strong>2</strong></sup></b><b><strong>)</strong></b></td>\n",
        "<td class=\"GFGEditorTheme__tableCell\" style=\"width: 140px\"><b><strong>O(1)</strong></b></td>\n",
        "</tr>\n",
        "<tr>\n",
        "<td class=\"GFGEditorTheme__tableCell\" style=\"width: 140px\"><b><strong>Selection Sort</strong></b></td>\n",
        "<td class=\"GFGEditorTheme__tableCell\" style=\"width: 140px\"><b><strong>Ω(N</strong></b><b><sup><strong>2</strong></sup></b><b><strong>)</strong></b></td>\n",
        "<td class=\"GFGEditorTheme__tableCell\" style=\"width: 140px\"><b><strong>Θ(N</strong></b><b><sup><strong>2</strong></sup></b><b><strong>)</strong></b></td>\n",
        "<td class=\"GFGEditorTheme__tableCell\" style=\"width: 140px\"><b><strong>O(N</strong></b><b><sup><strong>2</strong></sup></b><b><strong>)</strong></b></td>\n",
        "<td class=\"GFGEditorTheme__tableCell\" style=\"width: 140px\"><b><strong>O(1)</strong></b></td>\n",
        "</tr>\n",
        "<tr>\n",
        "<td class=\"GFGEditorTheme__tableCell\" style=\"width: 140px\"><b><strong>Insertion Sort</strong></b></td>\n",
        "<td class=\"GFGEditorTheme__tableCell\" style=\"width: 140px\"><b><strong>Ω(N)</strong></b></td>\n",
        "<td class=\"GFGEditorTheme__tableCell\" style=\"width: 140px\"><b><strong>Θ(N</strong></b><b><sup><strong>2</strong></sup></b><b><strong>)</strong></b></td>\n",
        "<td class=\"GFGEditorTheme__tableCell\" style=\"width: 140px\"><b><strong>O(N</strong></b><b><sup><strong>2</strong></sup></b><b><strong>)</strong></b></td>\n",
        "<td class=\"GFGEditorTheme__tableCell\" style=\"width: 140px\"><b><strong>O(1)</strong></b></td>\n",
        "</tr>\n",
        "<tr>\n",
        "<td class=\"GFGEditorTheme__tableCell\" style=\"width: 140px\"><b><strong>Merge Sort</strong></b></td>\n",
        "<td class=\"GFGEditorTheme__tableCell\" style=\"width: 140px\"><b><strong>Ω(N log N)</strong></b></td>\n",
        "<td class=\"GFGEditorTheme__tableCell\" style=\"width: 140px\"><b><strong>Θ(N log N)</strong></b></td>\n",
        "<td class=\"GFGEditorTheme__tableCell\" style=\"width: 140px\"><b><strong>O(N log N)</strong></b></td>\n",
        "<td class=\"GFGEditorTheme__tableCell\" style=\"width: 140px\"><b><strong>O(N)</strong></b></td>\n",
        "</tr>\n",
        "<tr>\n",
        "<td class=\"GFGEditorTheme__tableCell\" style=\"width: 140px\"><b><strong>Heap Sort</strong></b></td>\n",
        "<td class=\"GFGEditorTheme__tableCell\" style=\"width: 140px\"><b><strong>Ω(N log N)</strong></b></td>\n",
        "<td class=\"GFGEditorTheme__tableCell\" style=\"width: 140px\"><b><strong>Θ(N log N)</strong></b></td>\n",
        "<td class=\"GFGEditorTheme__tableCell\" style=\"width: 140px\"><b><strong>O(N log N)</strong></b></td>\n",
        "<td class=\"GFGEditorTheme__tableCell\" style=\"width: 140px\"><b><strong>O(1)</strong></b></td>\n",
        "</tr>\n",
        "<tr>\n",
        "<td class=\"GFGEditorTheme__tableCell\" style=\"width: 140px\"><b><strong>Quick Sort</strong></b></td>\n",
        "<td class=\"GFGEditorTheme__tableCell\" style=\"width: 140px\"><b><strong>Ω(N log N)</strong></b></td>\n",
        "<td class=\"GFGEditorTheme__tableCell\" style=\"width: 140px\"><b><strong>Θ(N log N)</strong></b></td>\n",
        "<td class=\"GFGEditorTheme__tableCell\" style=\"width: 140px\"><b><strong>O(N</strong></b><b><sup><strong>2</strong></sup></b><b><strong>)</strong></b></td>\n",
        "<td class=\"GFGEditorTheme__tableCell\" style=\"width: 140px\"><b><strong>O(log N)</strong></b></td>\n",
        "</tr>\n",
        "<tr>\n",
        "<td class=\"GFGEditorTheme__tableCell\" style=\"width: 140px\"><b><strong>Radix Sort</strong></b></td>\n",
        "<td class=\"GFGEditorTheme__tableCell\" style=\"width: 140px\"><b><strong>Ω(N k)</strong></b></td>\n",
        "<td class=\"GFGEditorTheme__tableCell\" style=\"width: 140px\"><b><strong>Θ(N k)</strong></b></td>\n",
        "<td class=\"GFGEditorTheme__tableCell\" style=\"width: 140px\"><b><strong>O(N k)</strong></b></td>\n",
        "<td class=\"GFGEditorTheme__tableCell\" style=\"width: 140px\"><b><strong>O(N + k)</strong></b></td>\n",
        "</tr>\n",
        "<tr>\n",
        "<td class=\"GFGEditorTheme__tableCell\" style=\"width: 140px\"><b><strong>Count Sort</strong></b></td>\n",
        "<td class=\"GFGEditorTheme__tableCell\" style=\"width: 140px\"><b><strong>Ω(N + k)</strong></b></td>\n",
        "<td class=\"GFGEditorTheme__tableCell\" style=\"width: 140px\"><b><strong>Θ(N + k)</strong></b></td>\n",
        "<td class=\"GFGEditorTheme__tableCell\" style=\"width: 140px\"><b><strong>O(N + k)</strong></b></td>\n",
        "<td class=\"GFGEditorTheme__tableCell\" style=\"width: 140px\"><b><strong>O(k)</strong></b></td>\n",
        "</tr>\n",
        "<tr>\n",
        "<td class=\"GFGEditorTheme__tableCell\" style=\"width: 140px\"><b><strong>Bucket Sort</strong></b></td>\n",
        "<td class=\"GFGEditorTheme__tableCell\" style=\"width: 140px\"><b><strong>Ω(N + k)</strong></b></td>\n",
        "<td class=\"GFGEditorTheme__tableCell\" style=\"width: 140px\"><b><strong>Θ(N + k)</strong></b></td>\n",
        "<td class=\"GFGEditorTheme__tableCell\" style=\"width: 140px\"><b><strong>O(N</strong></b><b><sup><strong>2</strong></sup></b><b><strong>)</strong></b></td>\n",
        "<td class=\"GFGEditorTheme__tableCell\" style=\"width: 140px\"><b><strong>O(N)</strong></b></td>\n",
        "</tr>\n",
        "</tbody>\n",
        "</table>"
      ],
      "metadata": {
        "id": "nECM1slTWbBP"
      }
    },
    {
      "cell_type": "code",
      "source": [
        "def countSort(l):\n"
      ],
      "metadata": {
        "id": "0bWNmgFAWT0F"
      },
      "execution_count": null,
      "outputs": []
    }
  ]
}